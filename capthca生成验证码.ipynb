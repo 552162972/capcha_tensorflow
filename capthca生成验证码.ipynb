{
 "cells": [
  {
   "cell_type": "code",
   "execution_count": 14,
   "metadata": {},
   "outputs": [
    {
     "name": "stdout",
     "output_type": "stream",
     "text": [
      "Creating 10000/10000\n",
      "Finished"
     ]
    }
   ],
   "source": [
    "import sys\n",
    "import os\n",
    "import shutil\n",
    "import random\n",
    "import time\n",
    "from captcha.image import ImageCaptcha\n",
    " \n",
    "#用于生成验证码的字符集\n",
    "CHAR_SET = ['0','1','2','3','4','5','6','7','8','9']\n",
    "#字符集的长度\n",
    "CHAR_SET_LEN = 10\n",
    "#验证码的长度，每个验证码由4个数字组成\n",
    "CAPTCHA_LEN = 4\n",
    " \n",
    "#验证码图片的存放路径\n",
    "CAPTCHA_IMAGE_PATH = 'images/'\n",
    "#用于模型测试的验证码图片的存放路径，它里面的验证码图片作为测试集\n",
    "TEST_IMAGE_PATH = 'test/'\n",
    "#用于模型测试的验证码图片的个数，从生成的验证码图片中取出来放入测试集中\n",
    "TEST_IMAGE_NUMBER = 100\n",
    " \n",
    "#生成验证码图片，4位的十进制数字可以有10000种验证码\n",
    "def generate_captcha_image(charSet = CHAR_SET, charSetLen=CHAR_SET_LEN, captchaImgPath=CAPTCHA_IMAGE_PATH):   \n",
    "    k  = 0\n",
    "    total = 1\n",
    "    for i in range(CAPTCHA_LEN):\n",
    "        total *= charSetLen\n",
    "        \n",
    "    for i in range(charSetLen):\n",
    "        for j in range(charSetLen):\n",
    "            for m in range(charSetLen):\n",
    "                for n in range(charSetLen):\n",
    "                    captcha_text = charSet[i] + charSet[j] + charSet[m] + charSet[n]\n",
    "                    image = ImageCaptcha()\n",
    "                    image.write(captcha_text, captchaImgPath + captcha_text + '.png')#图片格式改成其他可能会有问题\n",
    "                    k += 1\n",
    "                    sys.stdout.write(\"\\rCreating %d/%d\" % (k, total))\n",
    "                    sys.stdout.flush()\n",
    "                    \n",
    "#从验证码的图片集中取出一部分作为测试集，这些图片不参加训练，只用于模型的测试                    \n",
    "def prepare_test_set():\n",
    "    fileNameList = []    \n",
    "    for filePath in os.listdir(CAPTCHA_IMAGE_PATH):\n",
    "        captcha_name = filePath.split('/')[-1]\n",
    "        fileNameList.append(captcha_name)\n",
    "    random.seed(time.time())\n",
    "    random.shuffle(fileNameList) \n",
    "    for i in range(TEST_IMAGE_NUMBER):\n",
    "        name = fileNameList[i]\n",
    "        shutil.move(CAPTCHA_IMAGE_PATH + name, TEST_IMAGE_PATH + name)\n",
    "                        \n",
    "if __name__ == '__main__':\n",
    "    generate_captcha_image(CHAR_SET, CHAR_SET_LEN, CAPTCHA_IMAGE_PATH)\n",
    "    prepare_test_set()\n",
    "    sys.stdout.write(\"\\nFinished\")\n",
    "    sys.stdout.flush()  "
   ]
  },
  {
   "cell_type": "code",
   "execution_count": null,
   "metadata": {},
   "outputs": [],
   "source": []
  },
  {
   "cell_type": "code",
   "execution_count": null,
   "metadata": {},
   "outputs": [],
   "source": []
  }
 ],
 "metadata": {
  "kernelspec": {
   "display_name": "Python 3",
   "language": "python",
   "name": "python3"
  },
  "language_info": {
   "codemirror_mode": {
    "name": "ipython",
    "version": 3
   },
   "file_extension": ".py",
   "mimetype": "text/x-python",
   "name": "python",
   "nbconvert_exporter": "python",
   "pygments_lexer": "ipython3",
   "version": "3.6.5"
  }
 },
 "nbformat": 4,
 "nbformat_minor": 2
}
